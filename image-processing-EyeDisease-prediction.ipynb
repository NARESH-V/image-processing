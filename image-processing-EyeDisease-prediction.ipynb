{
 "cells": [
  {
   "cell_type": "markdown",
   "metadata": {},
   "source": [
    "<img src=\"https://i.ibb.co/k1jrqqc/NA.png\" style=\"float: left; margin: 20px; height: 55px; border-radius:50%;\">\n",
    "\n",
    "# IMAGE PROCESSING: `Eye Disease Prediction`\n",
    "\n",
    "_Author: Naresh V\n",
    "\n",
    "----"
   ]
  },
  {
   "cell_type": "markdown",
   "metadata": {},
   "source": [
    "## Importing Libraries"
   ]
  },
  {
   "cell_type": "code",
   "execution_count": 1,
   "metadata": {},
   "outputs": [],
   "source": [
    "import warnings\n",
    "warnings.filterwarnings('ignore')\n",
    "from tensorflow.keras.preprocessing.image import load_img, save_img, img_to_array\n",
    "from tensorflow.keras.utils import normalize\n",
    "from tensorflow.keras.layers import Dense, Dropout, Flatten, Conv2D, MaxPooling2D\n",
    "from tensorflow.keras.models import Sequential\n",
    "from sklearn.model_selection import train_test_split\n",
    "import numpy as np\n",
    "from os import listdir\n",
    "import matplotlib.pyplot as plt\n",
    "import gc\n",
    "np.random.seed(42)"
   ]
  },
  {
   "cell_type": "markdown",
   "metadata": {},
   "source": [
    "## Importing Datasets"
   ]
  },
  {
   "cell_type": "code",
   "execution_count": 2,
   "metadata": {},
   "outputs": [],
   "source": [
    "categories = ['cataracts', 'glaucoma', 'normal', 'retinopathy']"
   ]
  },
  {
   "cell_type": "code",
   "execution_count": 3,
   "metadata": {},
   "outputs": [],
   "source": [
    "# To resize and normalize the image data\n",
    "def process(data, path):\n",
    "    try:\n",
    "        #loading image and resizing it\n",
    "        img = load_img(path+data, target_size=(512, 512))\n",
    "        \n",
    "        #to convert image to array\n",
    "        img_arr = img_to_array(img)/512\n",
    "        \n",
    "        #to normalize the array\n",
    "        img_arr = normalize(img_arr)\n",
    "        \n",
    "        return img_arr\n",
    "    except:\n",
    "            print(f'Error for file: {data}')\n",
    "    pass\n"
   ]
  },
  {
   "cell_type": "code",
   "execution_count": 4,
   "metadata": {},
   "outputs": [],
   "source": [
    "def read_data():\n",
    "    # path of the required dataset folders\n",
    "    path = 'datasets/'\n",
    "    \n",
    "    # To store the image data w.r.t the categories\n",
    "    data = {}\n",
    "    \n",
    "    # To instantiate X, y\n",
    "    X = []\n",
    "    y = []\n",
    "    i = 0\n",
    "\n",
    "    # To iterate through each category\n",
    "    for category in categories:\n",
    "        \n",
    "        print(f'processing...{category}',end='')\n",
    "        \n",
    "        # To get the name of the folder\n",
    "        folder = category.lower()\n",
    "        \n",
    "        # Path of the dataset folder\n",
    "        data_path = path+f'{folder}/'\n",
    "        \n",
    "        # To Make a list of processed image data\n",
    "        X += [ process(file,data_path) for file in listdir(data_path)[:5]]\n",
    "        y += [i] * len(listdir(data_path)[:5])\n",
    "        i += 1\n",
    "        \n",
    "        print(f'\\r{category} data processed!')\n",
    "        \n",
    "    # To freeup memory    \n",
    "    del data\n",
    "    gc.collect()\n",
    "    return X,y"
   ]
  },
  {
   "cell_type": "markdown",
   "metadata": {},
   "source": [
    "## Setting X and y"
   ]
  },
  {
   "cell_type": "code",
   "execution_count": 5,
   "metadata": {},
   "outputs": [
    {
     "name": "stdout",
     "output_type": "stream",
     "text": [
      "cataracts data processed!\n",
      "glaucoma data processed!\n",
      "normal data processed!\n",
      "retinopathy data processed!\n"
     ]
    }
   ],
   "source": [
    "X, y = read_data()"
   ]
  },
  {
   "cell_type": "code",
   "execution_count": 6,
   "metadata": {},
   "outputs": [
    {
     "name": "stdout",
     "output_type": "stream",
     "text": [
      "X shape: (20, 512, 512, 3)\n",
      "y shape: (20,)\n"
     ]
    }
   ],
   "source": [
    "# To convert X,y to numpy array\n",
    "X = np.array(X)\n",
    "y = np.array(y)\n",
    "print(f'X shape: {X.shape}')\n",
    "print(f'y shape: {y.shape}')"
   ]
  },
  {
   "cell_type": "code",
   "execution_count": 7,
   "metadata": {},
   "outputs": [
    {
     "data": {
      "text/plain": [
       "40"
      ]
     },
     "execution_count": 7,
     "metadata": {},
     "output_type": "execute_result"
    }
   ],
   "source": [
    "gc.collect()"
   ]
  },
  {
   "cell_type": "markdown",
   "metadata": {},
   "source": [
    "## Train-Test Split"
   ]
  },
  {
   "cell_type": "code",
   "execution_count": 8,
   "metadata": {},
   "outputs": [],
   "source": [
    "X_train, X_test, y_train, y_test = train_test_split(X, y, random_state=42, stratify=y)"
   ]
  },
  {
   "cell_type": "code",
   "execution_count": 9,
   "metadata": {},
   "outputs": [
    {
     "data": {
      "text/plain": [
       "40"
      ]
     },
     "execution_count": 9,
     "metadata": {},
     "output_type": "execute_result"
    }
   ],
   "source": [
    "del X\n",
    "del y\n",
    "gc.collect()"
   ]
  },
  {
   "cell_type": "markdown",
   "metadata": {},
   "source": [
    "## CNN Model"
   ]
  },
  {
   "cell_type": "code",
   "execution_count": 10,
   "metadata": {},
   "outputs": [
    {
     "name": "stdout",
     "output_type": "stream",
     "text": [
      "WARNING:tensorflow:From C:\\Users\\NARESH\\anaconda3\\lib\\site-packages\\tensorflow\\python\\ops\\init_ops.py:1251: calling VarianceScaling.__init__ (from tensorflow.python.ops.init_ops) with dtype is deprecated and will be removed in a future version.\n",
      "Instructions for updating:\n",
      "Call initializer instance with the dtype argument instead of passing it to the constructor\n"
     ]
    }
   ],
   "source": [
    "# To instantiatea Sequential model \n",
    "model = Sequential()\n",
    "\n",
    "# To add a Convolutional 2D layer which creates 16 3x3 filters to detect image features.\n",
    "model.add(Conv2D(16, (3,3), activation='relu', input_shape=(512,512,3)))\n",
    "\n",
    "# To add a MaxPooling 2D layer which takes the maximum value in every 2x2 grid\n",
    "model.add(MaxPooling2D(pool_size=(2,2)))\n",
    "\n",
    "# To increase the filters to 32\n",
    "model.add(Conv2D(32, (3,3), activation='relu'))\n",
    "model.add(MaxPooling2D((2,2)))\n",
    "\n",
    "# To increase the filters to 64\n",
    "model.add(Conv2D(64, (3,3), activation='relu'))\n",
    "model.add(MaxPooling2D((2,2)))\n",
    "\n",
    "# To bridge between the convolutional layers and the dense layers\n",
    "model.add(Flatten())\n",
    "\n",
    "# To analyzes the features that were identified in the convolutional layers \n",
    "model.add(Dense(256, activation='relu'))\n",
    "\n",
    "# To add the output layer\n",
    "model.add(Dense(4, activation='softmax'))"
   ]
  },
  {
   "cell_type": "code",
   "execution_count": 12,
   "metadata": {},
   "outputs": [
    {
     "name": "stdout",
     "output_type": "stream",
     "text": [
      "Model: \"sequential\"\n",
      "_________________________________________________________________\n",
      "Layer (type)                 Output Shape              Param #   \n",
      "=================================================================\n",
      "conv2d (Conv2D)              (None, 510, 510, 16)      448       \n",
      "_________________________________________________________________\n",
      "max_pooling2d (MaxPooling2D) (None, 255, 255, 16)      0         \n",
      "_________________________________________________________________\n",
      "conv2d_1 (Conv2D)            (None, 253, 253, 32)      4640      \n",
      "_________________________________________________________________\n",
      "max_pooling2d_1 (MaxPooling2 (None, 126, 126, 32)      0         \n",
      "_________________________________________________________________\n",
      "conv2d_2 (Conv2D)            (None, 124, 124, 64)      18496     \n",
      "_________________________________________________________________\n",
      "max_pooling2d_2 (MaxPooling2 (None, 62, 62, 64)        0         \n",
      "_________________________________________________________________\n",
      "flatten (Flatten)            (None, 246016)            0         \n",
      "_________________________________________________________________\n",
      "dense (Dense)                (None, 256)               62980352  \n",
      "_________________________________________________________________\n",
      "dense_1 (Dense)              (None, 4)                 1028      \n",
      "=================================================================\n",
      "Total params: 63,004,964\n",
      "Trainable params: 63,004,964\n",
      "Non-trainable params: 0\n",
      "_________________________________________________________________\n"
     ]
    }
   ],
   "source": [
    "model.summary()"
   ]
  },
  {
   "cell_type": "code",
   "execution_count": 13,
   "metadata": {},
   "outputs": [],
   "source": [
    "# To compile the model\n",
    "model.compile(loss='sparse_categorical_crossentropy', metrics=['accuracy'], optimizer='adam')"
   ]
  },
  {
   "cell_type": "code",
   "execution_count": 14,
   "metadata": {},
   "outputs": [
    {
     "name": "stdout",
     "output_type": "stream",
     "text": [
      "Train on 15 samples, validate on 5 samples\n",
      "Epoch 1/30\n",
      "15/15 [==============================] - 52s 3s/sample - loss: 1.3846 - acc: 0.2667 - val_loss: 32.5937 - val_acc: 0.2000\n",
      "Epoch 2/30\n",
      "15/15 [==============================] - 30s 2s/sample - loss: 31.0980 - acc: 0.2667 - val_loss: 4.3510 - val_acc: 0.6000\n",
      "Epoch 3/30\n",
      "15/15 [==============================] - 9s 607ms/sample - loss: 5.5942 - acc: 0.4000 - val_loss: 5.6211 - val_acc: 0.4000\n",
      "Epoch 4/30\n",
      "15/15 [==============================] - 4s 266ms/sample - loss: 4.5005 - acc: 0.4000 - val_loss: 3.8132 - val_acc: 0.4000\n",
      "Epoch 5/30\n",
      "15/15 [==============================] - 3s 226ms/sample - loss: 3.1281 - acc: 0.5333 - val_loss: 1.2727 - val_acc: 0.6000\n",
      "Epoch 6/30\n",
      "15/15 [==============================] - 5s 322ms/sample - loss: 0.5767 - acc: 0.8000 - val_loss: 0.9190 - val_acc: 0.6000\n",
      "Epoch 7/30\n",
      "15/15 [==============================] - 3s 231ms/sample - loss: 0.3746 - acc: 0.8667 - val_loss: 0.2559 - val_acc: 1.0000\n",
      "Epoch 8/30\n",
      "15/15 [==============================] - 4s 247ms/sample - loss: 0.2730 - acc: 0.8667 - val_loss: 0.0873 - val_acc: 1.0000\n",
      "Epoch 9/30\n",
      "15/15 [==============================] - 3s 229ms/sample - loss: 0.1407 - acc: 1.0000 - val_loss: 0.1575 - val_acc: 1.0000\n",
      "Epoch 10/30\n",
      "15/15 [==============================] - 4s 242ms/sample - loss: 0.1392 - acc: 1.0000 - val_loss: 0.0751 - val_acc: 1.0000\n",
      "Epoch 11/30\n",
      "15/15 [==============================] - 3s 230ms/sample - loss: 0.0957 - acc: 1.0000 - val_loss: 0.0243 - val_acc: 1.0000\n",
      "Epoch 12/30\n",
      "15/15 [==============================] - 3s 228ms/sample - loss: 0.0312 - acc: 1.0000 - val_loss: 0.0274 - val_acc: 1.0000\n",
      "Epoch 13/30\n",
      "15/15 [==============================] - 3s 223ms/sample - loss: 0.0083 - acc: 1.0000 - val_loss: 0.0624 - val_acc: 1.0000\n",
      "Epoch 14/30\n",
      "15/15 [==============================] - 4s 237ms/sample - loss: 0.0056 - acc: 1.0000 - val_loss: 0.1632 - val_acc: 1.0000\n",
      "Epoch 15/30\n",
      "15/15 [==============================] - 4s 246ms/sample - loss: 0.0060 - acc: 1.0000 - val_loss: 0.3279 - val_acc: 0.8000\n",
      "Epoch 16/30\n",
      "15/15 [==============================] - 4s 278ms/sample - loss: 0.0054 - acc: 1.0000 - val_loss: 0.5429 - val_acc: 0.8000\n",
      "Epoch 17/30\n",
      "15/15 [==============================] - 3s 225ms/sample - loss: 0.0038 - acc: 1.0000 - val_loss: 0.6554 - val_acc: 0.8000\n",
      "Epoch 18/30\n",
      "15/15 [==============================] - 4s 237ms/sample - loss: 0.0020 - acc: 1.0000 - val_loss: 0.6539 - val_acc: 0.8000\n",
      "Epoch 19/30\n",
      "15/15 [==============================] - 4s 237ms/sample - loss: 8.3672e-04 - acc: 1.0000 - val_loss: 0.5792 - val_acc: 0.8000\n",
      "Epoch 20/30\n",
      "15/15 [==============================] - 4s 243ms/sample - loss: 3.5741e-04 - acc: 1.0000 - val_loss: 0.4772 - val_acc: 0.8000\n",
      "Epoch 21/30\n",
      "15/15 [==============================] - 4s 238ms/sample - loss: 2.1282e-04 - acc: 1.0000 - val_loss: 0.3661 - val_acc: 0.8000\n",
      "Epoch 22/30\n",
      "15/15 [==============================] - 4s 234ms/sample - loss: 1.8131e-04 - acc: 1.0000 - val_loss: 0.2572 - val_acc: 0.8000\n",
      "Epoch 23/30\n",
      "15/15 [==============================] - 4s 246ms/sample - loss: 1.7786e-04 - acc: 1.0000 - val_loss: 0.1623 - val_acc: 0.8000\n",
      "Epoch 24/30\n",
      "15/15 [==============================] - 4s 255ms/sample - loss: 1.6921e-04 - acc: 1.0000 - val_loss: 0.0908 - val_acc: 1.0000\n",
      "Epoch 25/30\n",
      "15/15 [==============================] - 4s 250ms/sample - loss: 1.4817e-04 - acc: 1.0000 - val_loss: 0.0458 - val_acc: 1.0000\n",
      "Epoch 26/30\n",
      "15/15 [==============================] - 4s 246ms/sample - loss: 1.1984e-04 - acc: 1.0000 - val_loss: 0.0218 - val_acc: 1.0000\n",
      "Epoch 27/30\n",
      "15/15 [==============================] - 4s 237ms/sample - loss: 9.1356e-05 - acc: 1.0000 - val_loss: 0.0101 - val_acc: 1.0000\n",
      "Epoch 28/30\n",
      "15/15 [==============================] - 4s 258ms/sample - loss: 6.6408e-05 - acc: 1.0000 - val_loss: 0.0047 - val_acc: 1.0000\n",
      "Epoch 29/30\n",
      "15/15 [==============================] - 4s 244ms/sample - loss: 4.6591e-05 - acc: 1.0000 - val_loss: 0.0023 - val_acc: 1.0000\n",
      "Epoch 30/30\n",
      "15/15 [==============================] - 4s 248ms/sample - loss: 3.1851e-05 - acc: 1.0000 - val_loss: 0.0011 - val_acc: 1.0000\n"
     ]
    }
   ],
   "source": [
    "# To fit the model and save it as history\n",
    "history = model.fit(X_train, y_train, validation_data=(X_test,y_test), batch_size=64, epochs=30)"
   ]
  },
  {
   "cell_type": "markdown",
   "metadata": {},
   "source": [
    "## Visualization - model's performance"
   ]
  },
  {
   "cell_type": "code",
   "execution_count": 17,
   "metadata": {},
   "outputs": [
    {
     "data": {
      "image/png": "[encoded data removed]",
      "text/plain": [
       "<Figure size 432x288 with 1 Axes>"
      ]
     },
     "metadata": {
      "needs_background": "light"
     },
     "output_type": "display_data"
    }
   ],
   "source": [
    "plt.plot(history.history['acc'], label='train accuracy')\n",
    "plt.plot(history.history['val_acc'], label='test accuracy')\n",
    "plt.xlabel('epochs')\n",
    "plt.ylabel('accuracy')\n",
    "plt.title('Train Vs Test Accuracy')\n",
    "plt.legend();"
   ]
  },
  {
   "cell_type": "code",
   "execution_count": 18,
   "metadata": {},
   "outputs": [
    {
     "data": {
      "image/png": "[encoded data removed]",
      "text/plain": [
       "<Figure size 432x288 with 1 Axes>"
      ]
     },
     "metadata": {
      "needs_background": "light"
     },
     "output_type": "display_data"
    }
   ],
   "source": [
    "plt.plot(history.history['loss'], label='train loss')\n",
    "plt.plot(history.history['val_loss'], label='test loss')\n",
    "plt.xlabel('epochs')\n",
    "plt.ylabel('Loss')\n",
    "plt.title('Train Vs Test Loss')\n",
    "plt.legend();"
   ]
  }
 ],
 "metadata": {
  "kernelspec": {
   "display_name": "Python 3",
   "language": "python",
   "name": "python3"
  },
  "language_info": {
   "codemirror_mode": {
    "name": "ipython",
    "version": 3
   },
   "file_extension": ".py",
   "mimetype": "text/x-python",
   "name": "python",
   "nbconvert_exporter": "python",
   "pygments_lexer": "ipython3",
   "version": "3.7.6"
  }
 },
 "nbformat": 4,
 "nbformat_minor": 4
}
